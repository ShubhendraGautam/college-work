{
  "nbformat": 4,
  "nbformat_minor": 0,
  "metadata": {
    "colab": {
      "provenance": []
    },
    "kernelspec": {
      "name": "python3",
      "display_name": "Python 3"
    },
    "language_info": {
      "name": "python"
    }
  },
  "cells": [
    {
      "cell_type": "code",
      "source": [
        "from PIL import Image\n",
        "import numpy as np\n",
        "\n",
        "\n",
        "def create_chessboard(size, square_size):\n",
        "    # Create a blank image\n",
        "    image = Image.new(\"RGB\", (size * square_size, size * square_size), (255, 255, 255))\n",
        "\n",
        "    # Create the chessboard pattern using NumPy\n",
        "    chessboard = np.zeros((size, size), dtype=int)\n",
        "    chessboard[1::2, ::2] = 1\n",
        "    chessboard[::2, 1::2] = 1\n",
        "\n",
        "    # Fill the image with black and white squares based on the chessboard pattern\n",
        "    for row in range(size):\n",
        "        for col in range(size):\n",
        "            if chessboard[row, col]:\n",
        "                for y in range(square_size):\n",
        "                    for x in range(square_size):\n",
        "                        image.putpixel((col * square_size + x, row * square_size + y), (0, 0, 0))  # Blue color for white squares\n",
        "            else:\n",
        "                for y in range(square_size):\n",
        "                    for x in range(square_size):\n",
        "                        image.putpixel((col * square_size + x, row * square_size + y), (255, 255, 255))  # Yellow color for black squares\n",
        "\n",
        "    return image\n",
        "\n",
        "if __name__ == \"__main__\":\n",
        "    size = 8  # Chessboard size (8x8)\n",
        "    square_size = 80  # Size of each square in pixels\n",
        "\n",
        "    chessboard_image = create_chessboard(size, square_size)\n",
        "    chessboard_image.save(\"chessboard.png\")\n",
        "\n",
        "\n",
        "\n",
        "    # Open the image and change the colors of the squares\n",
        "    image = Image.open(\"chessboard.png\")\n",
        "    pixels = np.array(image)\n",
        "\n",
        "\n",
        "\n",
        "    for row in range(size):\n",
        "        for col in range(size):\n",
        "            if (row + col) % 2 == 0:\n",
        "                pixels[row * square_size : (row + 1) * square_size, col * square_size : (col + 1) * square_size] = [255, 255, 0]  # Yellow\n",
        "            else:\n",
        "                pixels[row * square_size : (row + 1) * square_size, col * square_size : (col + 1) * square_size] = [0, 0, 255]  # Blue\n",
        "\n",
        "    updated_image = Image.fromarray(pixels)\n",
        "\n",
        "\n",
        "    updated_image.save(\"chessboard_updated.png\")\n",
        "\n"
      ],
      "metadata": {
        "id": "C2voug-HWuuU"
      },
      "execution_count": 12,
      "outputs": []
    },
    {
      "cell_type": "code",
      "source": [
        "from PIL import Image\n",
        "\n",
        "def get_image_dimensions(image_path):\n",
        "    image = Image.open(image_path)\n",
        "    width, height = image.size\n",
        "    return width, height\n",
        "\n",
        "def get_pixel_rgb(image_path, x, y):\n",
        "    image = Image.open(image_path)\n",
        "    pixel = image.getpixel((x, y))\n",
        "    return pixel\n",
        "\n",
        "if __name__ == \"__main__\":\n",
        "    image_path = \"chessboard_updated.png\"  # Replace this with the path to your image\n",
        "\n",
        "    width, height = get_image_dimensions(image_path)\n",
        "    print(f\"Image Dimensions: {width}x{height}\")\n",
        "\n",
        "    x_coord, y_coord = 100, 200  # Replace these with the coordinates of the pixel you want to check\n",
        "    pixel_rgb = get_pixel_rgb(image_path, x_coord, y_coord)\n",
        "    print(f\"RGB values at ({x_coord}, {y_coord}): {pixel_rgb}\")\n"
      ],
      "metadata": {
        "colab": {
          "base_uri": "https://localhost:8080/"
        },
        "id": "Vm1q4NMUXkFe",
        "outputId": "841fe8d7-59d9-42fb-bfbb-fc78ec828d7f"
      },
      "execution_count": 13,
      "outputs": [
        {
          "output_type": "stream",
          "name": "stdout",
          "text": [
            "Image Dimensions: 640x640\n",
            "RGB values at (100, 200): (0, 0, 255)\n"
          ]
        }
      ]
    }
  ]
}