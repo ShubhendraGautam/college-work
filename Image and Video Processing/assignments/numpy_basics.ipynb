{
  "nbformat": 4,
  "nbformat_minor": 0,
  "metadata": {
    "colab": {
      "provenance": []
    },
    "kernelspec": {
      "name": "python3",
      "display_name": "Python 3"
    },
    "language_info": {
      "name": "python"
    }
  },
  "cells": [
    {
      "cell_type": "code",
      "execution_count": 1,
      "metadata": {
        "colab": {
          "base_uri": "https://localhost:8080/"
        },
        "id": "kuLRKc9jn2zo",
        "outputId": "29444f2c-13e1-44b3-f273-fc6fe49e0836"
      },
      "outputs": [
        {
          "output_type": "stream",
          "name": "stdout",
          "text": [
            "Matrix Multiplication:\n",
            "[[19 22]\n",
            " [43 50]]\n",
            "\n",
            "Element-wise Multiplication:\n",
            "[[ 5 12]\n",
            " [21 32]]\n"
          ]
        }
      ],
      "source": [
        "import numpy as np\n",
        "\n",
        "# Define two matrices\n",
        "matrix_a = np.array([[1, 2],\n",
        "                     [3, 4]])\n",
        "\n",
        "matrix_b = np.array([[5, 6],\n",
        "                     [7, 8]])\n",
        "\n",
        "# Matrix Multiplication\n",
        "matrix_mult = np.dot(matrix_a, matrix_b)  # or matrix_mult = matrix_a @ matrix_b\n",
        "print(\"Matrix Multiplication:\")\n",
        "print(matrix_mult)\n",
        "\n",
        "# Element-wise Multiplication\n",
        "elementwise_mult = matrix_a * matrix_b\n",
        "print(\"\\nElement-wise Multiplication:\")\n",
        "print(elementwise_mult)\n"
      ]
    },
    {
      "cell_type": "code",
      "source": [
        "import numpy as np\n",
        "\n",
        "# Create a multi-dimensional array\n",
        "multi_dim_array = np.array([[1, 2, 3],\n",
        "                            [4, 5, 6],\n",
        "                            [7, 8, 9]])\n",
        "\n",
        "# Using ravel()\n",
        "flattened_ravel = multi_dim_array.ravel()\n",
        "print(\"Flattened using ravel():\")\n",
        "print(flattened_ravel)\n",
        "\n",
        "# Using flatten()\n",
        "flattened_flatten = multi_dim_array.flatten()\n",
        "print(\"\\nFlattened using flatten():\")\n",
        "print(flattened_flatten)\n"
      ],
      "metadata": {
        "colab": {
          "base_uri": "https://localhost:8080/"
        },
        "id": "b-acLI-3oamG",
        "outputId": "b3911165-8140-424c-e6c2-53ac503d50c2"
      },
      "execution_count": 2,
      "outputs": [
        {
          "output_type": "stream",
          "name": "stdout",
          "text": [
            "Flattened using ravel():\n",
            "[1 2 3 4 5 6 7 8 9]\n",
            "\n",
            "Flattened using flatten():\n",
            "[1 2 3 4 5 6 7 8 9]\n"
          ]
        }
      ]
    },
    {
      "cell_type": "code",
      "source": [
        "import numpy as np\n",
        "\n",
        "# Create a 1D array\n",
        "array_1d = np.array([1, 2, 3, 4, 5, 6])\n",
        "\n",
        "# Reshape the 1D array into a 2D array\n",
        "array_2d = array_1d.reshape(2, 3)\n",
        "print(\"Reshaped 2D array:\")\n",
        "print(array_2d)\n",
        "\n",
        "# Reshape the 2D array back into a 1D array\n",
        "reshaped_back = array_2d.reshape(-1)  # -1 means automatically compute the size along that dimension\n",
        "print(\"\\nReshaped back to 1D array:\")\n",
        "print(reshaped_back)\n"
      ],
      "metadata": {
        "colab": {
          "base_uri": "https://localhost:8080/"
        },
        "id": "k5-IEvAvoz6P",
        "outputId": "664b3679-248e-494f-e57b-655ce65827ce"
      },
      "execution_count": 4,
      "outputs": [
        {
          "output_type": "stream",
          "name": "stdout",
          "text": [
            "Reshaped 2D array:\n",
            "[[1 2 3]\n",
            " [4 5 6]]\n",
            "\n",
            "Reshaped back to 1D array:\n",
            "[1 2 3 4 5 6]\n"
          ]
        }
      ]
    },
    {
      "cell_type": "code",
      "source": [
        "import numpy as np\n",
        "\n",
        "# Create an array\n",
        "arr = np.array([1, 2, 3])\n",
        "\n",
        "# Compute element-wise exponential\n",
        "exp_arr = np.exp(arr)\n",
        "print(\"Exponential:\")\n",
        "print(exp_arr)\n",
        "\n",
        "\n",
        "# Compute element-wise natural logarithm\n",
        "log_arr = np.log(exp_arr)\n",
        "print(\"\\nNatural Logarithm:\")\n",
        "print(log_arr)\n",
        "\n",
        "\n",
        "# Compute element-wise base-10 logarithm\n",
        "log10_arr = np.log10(exp_arr)\n",
        "print(\"\\nBase-10 Logarithm:\")\n",
        "print(log10_arr)\n",
        "\n",
        "\n",
        "\n"
      ],
      "metadata": {
        "colab": {
          "base_uri": "https://localhost:8080/"
        },
        "id": "SH3esG2hraAU",
        "outputId": "5fbcd3ea-1d36-4a10-ace4-38cee522dbf9"
      },
      "execution_count": 7,
      "outputs": [
        {
          "output_type": "stream",
          "name": "stdout",
          "text": [
            "Exponential:\n",
            "[ 2.71828183  7.3890561  20.08553692]\n",
            "\n",
            "Natural Logarithm:\n",
            "[1. 2. 3.]\n",
            "\n",
            "Base-10 Logarithm:\n",
            "[0.43429448 0.86858896 1.30288345]\n"
          ]
        }
      ]
    },
    {
      "cell_type": "code",
      "source": [
        "import numpy as np\n",
        "\n",
        "# Create an array\n",
        "arr = np.array([12, 5, 23, 8, 19, 3])\n",
        "\n",
        "# Find the maximum and minimum elements\n",
        "max_value = np.max(arr)\n",
        "min_value = np.min(arr)\n",
        "\n",
        "print(\"Array:\", arr)\n",
        "print(\"Maximum:\", max_value)\n",
        "print(\"Minimum:\", min_value)\n"
      ],
      "metadata": {
        "colab": {
          "base_uri": "https://localhost:8080/"
        },
        "id": "hrFDgCCGrq7j",
        "outputId": "cbc1c694-1116-4f48-a0e5-2bbf834cfe83"
      },
      "execution_count": 8,
      "outputs": [
        {
          "output_type": "stream",
          "name": "stdout",
          "text": [
            "Array: [12  5 23  8 19  3]\n",
            "Maximum: 23\n",
            "Minimum: 3\n"
          ]
        }
      ]
    }
  ]
}